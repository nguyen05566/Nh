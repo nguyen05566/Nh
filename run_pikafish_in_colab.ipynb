```json
{
  "cells": [
    {
      "cell_type": "code",
      "execution_count": 1,
      "metadata": {},
      "outputs": [],
      "source": [
        "!apt-get install -y cmake g++ git"
      ]
    },
    {
      "cell_type": "code",
      "execution_count": 2,
      "metadata": {},
      "outputs": [],
      "source": [
        "!rm -rf Pikafish  # Xóa thư mục Pikafish nếu đã tồn tại\n",
        "!git clone https://github.com/official-pikafish/Pikafish.git\n",
        "%cd Pikafish/src"
      ]
    },
    {
      "cell_type": "code",
      "execution_count": 3,
      "metadata": {},
      "outputs": [],
      "source": [
        "!cmake .\n",
        "!make"
      ]
    },
    {
      "cell_type": "code",
      "execution_count": 4,
      "metadata": {},
      "outputs": [],
      "source": [
        "!./pikafish"
      ]
    }
  ],
  "metadata": {
    "colab": {
      "name": "run_pikafish_in_colab.ipynb",
      "provenance": []
    },
    "kernelspec": {
      "display_name": "Python 3",
      "name": "python3"
    },
    "language_info": {
      "name": "python"
    }
  },
  "nbformat": 4,
  "nbformat_minor": 0
}
```